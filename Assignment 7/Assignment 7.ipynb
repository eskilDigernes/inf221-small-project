{
 "cells": [
  {
   "cell_type": "markdown",
   "metadata": {},
   "source": [
    "Eskil Digernes, Sondre With, Torjus With"
   ]
  },
  {
   "cell_type": "markdown",
   "metadata": {},
   "source": [
    "# Assignment 7\n",
    "\n",
    "## Exercise 1\n",
    "\n",
    "Hash functions must provide consistent output for the same input, as failing to do so would result in losing the ability to locate the item after it has been placed in the hash table.\n",
    "\n",
    "Out of these hash functions, which ones exhibit consistency?\n",
    "\n",
    "a. f(x) =1 (Returns \"1\" for all input) 0.5 point\n",
    "\n",
    "b. f(x) = rand()  (Returns a random number every time) 0.5 point\n",
    "\n",
    "c. f(x) = next_empty_slot()  (Returns the index of the next empty slot in the hash table) 0.5 point\n",
    "\n",
    "d. f(x) = len(x) (Uses the length of the string as the index) 0.5 point"
   ]
  },
  {
   "cell_type": "markdown",
   "metadata": {},
   "source": [
    "a. _f(x) =1 (Returns \"1\" for all input)._\\\n",
    "Is consistent since it always returns \"1\", although it will create collisions if there is more than one input.\n",
    "\n",
    "b. _f(x) = rand()  (Returns a random number every time)_.\\ \n",
    "Is not consistent since it returns a random number every time, making it impossible to map back.\n",
    "\n",
    "c. _f(x) = next_empty_slot()  (Returns the index of the next empty slot in the hash table)_\\\n",
    "Is not consistent since it returns the current state value of the hash table, not the input value.   \n",
    "\n",
    "d. _f(x) = len(x) (Uses the length of the string as the index)._\\\n",
    "Is consistent because it returns the length of the input. \n",
    "\n",
    "So only hash function a. and d. are consistent."
   ]
  },
  {
   "cell_type": "markdown",
   "metadata": {},
   "source": [
    "## Exercise 2\n",
    "Exercise 2 (3 points) :\n",
    "Having a good distribution is a crucial factor for hash functions. Their goal should be to map items as uniformly as possible across the hash table. The most unfavorable scenario occurs when a hash function maps all items to the same slot in the hash table.\n",
    "\n",
    "Consider these four hash functions that operate on strings:\n",
    "\n",
    "A. Returns \"1\" for all input.\n",
    "\n",
    "B. Uses the length of the string as the index.\n",
    "\n",
    "C. Uses the string's first character as the index, resulting in all strings starting with the same letter being hashed together.\n",
    "\n",
    "D. Maps each letter to a prime number, such as a = 2, b = 3, c = 5, d = 7, e = 11, etc.\n",
    "\n",
    "The hash function for a string is the sum of all the characters, with the result modulo the hash's size. For instance, if the hash size is 10, and the string is \"bag,\" the index is calculated as:\n",
    "\n",
    "(3+2+17)% 10=22 % 10 = 2.\n",
    "\n",
    "Which hash functions would provide a good distribution for each of these examples?  Assume a hash table size of 10 slot."
   ]
  },
  {
   "cell_type": "markdown",
   "metadata": {},
   "source": [
    "**2.1** A phonebook where the keys are names and values are phone numbers. The names are as follows: Esther, Ben, Bob, and Dan. (1 point)\n",
    "\n",
    "D. Since it uses prime numbers and the modulo operator to map each letter to a number.  "
   ]
  },
  {
   "cell_type": "markdown",
   "metadata": {},
   "source": [
    "**2.2** A mapping from battery size to power. The sizes are A, AA, AAA, and AAAA. (1 point)\n",
    "\n",
    "B. Since the characters are the same and the only difference is its string length."
   ]
  },
  {
   "cell_type": "markdown",
   "metadata": {},
   "source": [
    "**2.3** A mapping from book titles to authors. The titles are Maus, Fun Home, and Watchmen. (1 point)\n",
    "\n",
    "D. Same as in the phonebook question. This hash function gives the best distribution from the given hash functions. "
   ]
  },
  {
   "cell_type": "markdown",
   "metadata": {},
   "source": [
    "## Exercise 3 (1 point) :\n",
    "A hash function uses the following formula to compute the hash value for a given input string:\n",
    "\n",
    "hash_value = (sum of ASCII values of each character in the string) % 13\n",
    "\n",
    "What is the hash value for the input string \"hello\"?"
   ]
  },
  {
   "cell_type": "markdown",
   "metadata": {},
   "source": [
    "ASCII value for each letter in \"hello\":\\\n",
    "h = 104\\\n",
    "e = 101\\\n",
    "l = 108\\\n",
    "l =  108\\\n",
    "o =  111\n",
    "\n",
    "Hash sum is 532\n",
    "\n",
    "**hash_value = 532 % 13 = 12**"
   ]
  }
 ],
 "metadata": {
  "kernelspec": {
   "display_name": "dat200_env",
   "language": "python",
   "name": "python3"
  },
  "language_info": {
   "codemirror_mode": {
    "name": "ipython",
    "version": 3
   },
   "file_extension": ".py",
   "mimetype": "text/x-python",
   "name": "python",
   "nbconvert_exporter": "python",
   "pygments_lexer": "ipython3",
   "version": "3.12.2"
  }
 },
 "nbformat": 4,
 "nbformat_minor": 2
}
