{
 "cells": [
  {
   "cell_type": "markdown",
   "metadata": {},
   "source": [
    "Eskil Digernes, Sondre With, Torjus With"
   ]
  },
  {
   "cell_type": "markdown",
   "metadata": {},
   "source": [
    "# Assignment 5\n",
    "\n",
    "## Exercise 1\n",
    "Use the figure which illustrates the operation of heapsort in Lecture 9 - \"The Heapsort Example figure\" as an example to illustrate how Heapsort operates on the array A = ⟨5, 13, 2, 25, 7, 17, 20, 8, 4⟩"
   ]
  },
  {
   "cell_type": "markdown",
   "metadata": {},
   "source": [
    "As stated in Lecture 9, we followed these steps: \n",
    "\n",
    "1. Turn A[1..n] into max-heap.\n",
    "2. A[1] is now largest element.\n",
    "3. Swap A[1] and A[n].\n",
    "4. Reduce heap size to n - 1\n",
    "and max-heapify A[1..n - 1]\n",
    "5. Now, A[n] contains largest element (is\n",
    "sorted) and A[1..n - 1] is max-heap.\n",
    "6. Repeat until entire array is sorted.\n",
    "\n",
    "![Heap Sort](INF221_51.jpg)"
   ]
  },
  {
   "cell_type": "markdown",
   "metadata": {},
   "source": [
    "## Exercise 2\n",
    "Illustrate  how Tree-sort operates on the array A = ⟨5, 13, 2, 25, 7, 17, 20, 8, 4⟩\n",
    "\n",
    "Note: Show only the final BST tree and the BST traversing steps."
   ]
  },
  {
   "cell_type": "markdown",
   "metadata": {},
   "source": [
    "## Exercise 3\n",
    "How can you implement a FIFO queue using two LIFO stacks? Provide a diagram to illustrate the process and Python code for the enqueue and dequeue operations."
   ]
  }
 ],
 "metadata": {
  "kernelspec": {
   "display_name": "dat200_env",
   "language": "python",
   "name": "python3"
  },
  "language_info": {
   "codemirror_mode": {
    "name": "ipython",
    "version": 3
   },
   "file_extension": ".py",
   "mimetype": "text/x-python",
   "name": "python",
   "nbconvert_exporter": "python",
   "pygments_lexer": "ipython3",
   "version": "3.12.2"
  }
 },
 "nbformat": 4,
 "nbformat_minor": 2
}
