{
 "cells": [
  {
   "cell_type": "markdown",
   "metadata": {},
   "source": [
    "Eskil Digernes, Sondre With, Torjus With"
   ]
  },
  {
   "cell_type": "markdown",
   "metadata": {},
   "source": [
    "# Assignment 6\n",
    "\n",
    "## Exercise 1\n",
    "1 → 2 → 3\\\n",
    "2 → 1 → 4 → 5\\\n",
    "3 → 1 → 6 → 7\\\n",
    "4 → 2\\\n",
    "5 → 2\\\n",
    "6 → 3\\\n",
    "7 → 3  \n",
    "\n",
    "Give an equivalent adjacency-matrix representation."
   ]
  },
  {
   "cell_type": "markdown",
   "metadata": {},
   "source": [
    "|   | 1 | 2 | 3 | 4 | 5 | 6 | 7 |\n",
    "|---|---|---|---|---|---|---|---|\n",
    "| **1** | 0 | 1 | 1 | 0 | 0 | 0 | 0 |\n",
    "| **2** | 1 | 0 | 0 | 1 | 1 | 0 | 0 |\n",
    "| **3** | 1 | 0 | 0 | 0 | 0 | 1 | 1 |\n",
    "| **4** | 0 | 1 | 0 | 0 | 0 | 0 | 0 |\n",
    "| **5** | 0 | 1 | 0 | 0 | 0 | 0 | 0 |\n",
    "| **6** | 0 | 0 | 1 | 0 | 0 | 0 | 0 |\n",
    "| **7** | 0 | 0 | 1 | 0 | 0 | 0 | 0 |"
   ]
  },
  {
   "cell_type": "markdown",
   "metadata": {},
   "source": [
    "## Exercise 2\n",
    "![Graph](Assig6Ex2.png)\n",
    "\n",
    "Note: Consider node A as a start node; the alphabetical order is prioritized in visiting nodes.\n"
   ]
  },
  {
   "cell_type": "markdown",
   "metadata": {},
   "source": [
    "**2.1**\n",
    " \n",
    "Traverse each node in the graph using Breadth First Search traversal. Show the detailed\n",
    "steps using a Queue. (1 point)\n",
    "\n",
    "Step 1: Start with node A. Enqueue A and mark as visited. Queue: [A]\\\n",
    "Step 2: Dequeue A, and enqueue its neighbors B and C in alphabetical order. Queue: [B, C]\\\n",
    "Step 3: Dequeue B, and enqueue its neighbor D and E. Mark B as visited. Queue: [C, D, E]\\\n",
    "Step 4: Dequeue C, and enqueue its neighbors F. Queue: [D, E, F]\\\n",
    "Step 5: Dequeue D. D has no unvisited neighbors. Queue: [E, F]\\\n",
    "Step 6: Dequeue E. E has no unvisited neighbors. Queue: [F]\\\n",
    "Step 7: Dequeue F. F has no unvisited neighbors.\n",
    "\n",
    "Queue is now empty.\n",
    "\n",
    "Traversal order: A, B, C, D, E, F"
   ]
  },
  {
   "cell_type": "markdown",
   "metadata": {},
   "source": [
    "**2.2** \n",
    "\n",
    "Traverse each node in the graph using Depth First Search traversal. Show the detailed steps\n",
    "using a Stack. (1 point)\n",
    "\n",
    "Step 1: Start with node A. Push A onto the stack and mark it as visited. Stack: [A]\\\n",
    "Step 2: Pop A, push its neighbors B, C, and F onto the stack. Stack: [B, C, F]\\\n",
    "Step 3: Pop B, and push its neighbors D and E onto the stack. Stack: [C, F, D, E]\\\n",
    "Step 4: Pop C. C has no unvisited neighbors. Stack: [F, D, E]\\\n",
    "Step 5: Pop F. F has no unvisited neighbors. Stack: [D, E]\\\n",
    "Step 6: Pop D. D has no unvisited neighbors. Stack: [E]\\\n",
    "Step 7: Pop E. E has no unvisited neighbors.\n",
    "\n",
    "Stack is now empty.\n",
    "\n",
    "Traversal order: A, B, C, F, D, E"
   ]
  }
 ],
 "metadata": {
  "kernelspec": {
   "display_name": "dat200_env",
   "language": "python",
   "name": "python3"
  },
  "language_info": {
   "codemirror_mode": {
    "name": "ipython",
    "version": 3
   },
   "file_extension": ".py",
   "mimetype": "text/x-python",
   "name": "python",
   "nbconvert_exporter": "python",
   "pygments_lexer": "ipython3",
   "version": "3.12.2"
  }
 },
 "nbformat": 4,
 "nbformat_minor": 2
}
