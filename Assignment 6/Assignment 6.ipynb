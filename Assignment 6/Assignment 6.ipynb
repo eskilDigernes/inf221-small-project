{
 "cells": [
  {
   "cell_type": "markdown",
   "metadata": {},
   "source": [
    "Eskil Digernes, Sondre With, Torjus With"
   ]
  },
  {
   "cell_type": "markdown",
   "metadata": {},
   "source": [
    "# Assignment 6\n",
    "\n",
    "## Exercise 1\n",
    "1 → 2 → 3\\\n",
    "2 → 1 → 4 → 5\\\n",
    "3 → 1 → 6 → 7\\\n",
    "4 → 2\\\n",
    "5 → 2\\\n",
    "6 → 3\\\n",
    "7 → 3  "
   ]
  },
  {
   "cell_type": "markdown",
   "metadata": {},
   "source": [
    "|   | 1 | 2 | 3 | 4 | 5 | 6 | 7 |\n",
    "|---|---|---|---|---|---|---|---|\n",
    "| 1 | 0 | 1 | 1 | 0 | 0 | 0 | 0 |\n",
    "| 2 | 1 | 0 | 0 | 1 | 1 | 0 | 0 |\n",
    "| 3 | 1 | 0 | 0 | 0 | 0 | 1 | 1 |\n",
    "| 4 | 0 | 1 | 0 | 0 | 0 | 0 | 0 |\n",
    "| 5 | 0 | 1 | 0 | 0 | 0 | 0 | 0 |\n",
    "| 6 | 0 | 0 | 1 | 0 | 0 | 0 | 0 |\n",
    "| 7 | 0 | 0 | 1 | 0 | 0 | 0 | 0 |"
   ]
  },
  {
   "cell_type": "markdown",
   "metadata": {},
   "source": [
    "## Exercise 2\n",
    "![Graph](Assig6Ex2.png)"
   ]
  },
  {
   "cell_type": "markdown",
   "metadata": {},
   "source": [
    "**2.1**\n",
    " \n",
    "Traverse each node in the graph using Breadth First Search traversal. Show the detailed\n",
    "steps using a Queue. (1 point)\n",
    "\n",
    "Step 1: Enqueue A. Queue: [A]\\\n",
    "Step 2: Dequeue A (visit A), enqueue B, C, and D. Mark A as visited. Queue: [B, C, D]\\\n",
    "Step 3: Dequeue B (visit B), enqueue E since it's an unvisited neighbor of B. Queue: [C, D, E]\\\n",
    "Step 4: Dequeue C (visit C), enqueue F since it's an unvisited neighbor of C. Queue: [D, E, F]\\\n",
    "Step 5: Dequeue D (visit D). D has no unvisited neighbors since B and A are already visited. Queue: [E, F]\\\n",
    "Step 6: Dequeue E (visit E). E has no unvisited neighbors since B is already visited. Queue: [F]\\\n",
    "Step 7: Dequeue F (visit F). F has no unvisited neighbors. Queue is now empty.\n",
    "\n",
    "Traversal order: A, B, C, D, E, F"
   ]
  },
  {
   "cell_type": "markdown",
   "metadata": {},
   "source": [
    "**2.2** \n",
    "\n",
    "Traverse each node in the graph using Depth First Search traversal. Show the detailed steps\n",
    "using a Stack. (1 point)\n",
    "\n",
    "Step 1: Push node A onto the stack. Stack: [A]\\\n",
    "Step 2: Pop A (visit A), push its neighbors B, C, and D onto the stack. Stack: [D, C, B]\\\n",
    "Step 3: Pop B (visit B), push its unvisited neighbor E onto the stack. Stack: [D, C, E]\\\n",
    "Step 4: Pop E (visit E). E has no unvisited neighbors. Stack: [D, C]\\\n",
    "Step 5: Pop C (visit C), push its unvisited neighbor F onto the stack. Stack: [D, F]\\\n",
    "Step 6: Pop F (visit F). F has no unvisited neighbors. Stack: [D]\\\n",
    "Step 7: Pop D (visit D). D has no unvisited neighbors since B is already visited. Stack is now empty.\n",
    "\n",
    "Traversal order: A, B, E, C, F, D"
   ]
  },
  {
   "cell_type": "code",
   "execution_count": 1,
   "metadata": {},
   "outputs": [
    {
     "name": "stdout",
     "output_type": "stream",
     "text": [
      "{1: [2, 3], 2: [1, 4, 5], 3: [1, 6, 7], 4: [2], 5: [2], 6: [3], 7: [3]}\n"
     ]
    }
   ],
   "source": [
    "adjacency_matrix = [\n",
    "    [0, 1, 1, 0, 0, 0, 0],\n",
    "    [1, 0, 0, 1, 1, 0, 0],\n",
    "    [1, 0, 0, 0, 0, 1, 1],\n",
    "    [0, 1, 0, 0, 0, 0, 0],\n",
    "    [0, 1, 0, 0, 0, 0, 0],\n",
    "    [0, 0, 1, 0, 0, 0, 0],\n",
    "    [0, 0, 1, 0, 0, 0, 0]\n",
    "]\n",
    "\n",
    "adjacency_list = {}\n",
    "\n",
    "for i in range(len(adjacency_matrix)):\n",
    "    adjacency_list[i+1] = [j+1 for j, value in enumerate(adjacency_matrix[i]) if value == 1]\n",
    "\n",
    "print(adjacency_list)"
   ]
  }
 ],
 "metadata": {
  "kernelspec": {
   "display_name": "dat200_env",
   "language": "python",
   "name": "python3"
  },
  "language_info": {
   "codemirror_mode": {
    "name": "ipython",
    "version": 3
   },
   "file_extension": ".py",
   "mimetype": "text/x-python",
   "name": "python",
   "nbconvert_exporter": "python",
   "pygments_lexer": "ipython3",
   "version": "3.12.2"
  }
 },
 "nbformat": 4,
 "nbformat_minor": 2
}
