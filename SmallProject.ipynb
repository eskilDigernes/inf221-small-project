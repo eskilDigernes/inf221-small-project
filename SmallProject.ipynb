{
 "cells": [
  {
   "cell_type": "markdown",
   "metadata": {},
   "source": [
    "# Benchmarking sorting algorithms in Python\n",
    "INF221 small project, NMBU, Spring 2024"
   ]
  },
  {
   "cell_type": "markdown",
   "metadata": {},
   "source": [
    "### Importing packages"
   ]
  },
  {
   "cell_type": "code",
   "execution_count": 1,
   "metadata": {},
   "outputs": [],
   "source": [
    "import numpy as np\n",
    "import timeit\n",
    "import copy\n",
    "import pandas as pd\n",
    "import matplotlib.pyplot as plt"
   ]
  },
  {
   "cell_type": "markdown",
   "metadata": {},
   "source": [
    "### Insertion Sort \n",
    "by Mohit Kumra\\\n",
    "https://www.geeksforgeeks.org/insertion-sort/\n"
   ]
  },
  {
   "cell_type": "code",
   "execution_count": 2,
   "metadata": {},
   "outputs": [],
   "source": [
    "# Function to do insertion sort\n",
    "\n",
    "def insertionSort(arr):\n",
    " \n",
    "    # Traverse through 1 to len(arr)\n",
    "    for i in range(1, len(arr)):\n",
    " \n",
    "        key = arr[i]\n",
    " \n",
    "        # Move elements of arr[0..i-1], that are\n",
    "        # greater than key, to one position ahead\n",
    "        # of their current position\n",
    "        j = i-1\n",
    "        while j >= 0 and key < arr[j] :\n",
    "                arr[j + 1] = arr[j]\n",
    "                j -= 1\n",
    "        arr[j + 1] = key\n",
    "  \n",
    "# This code is contributed by Mohit Kumra"
   ]
  },
  {
   "cell_type": "markdown",
   "metadata": {},
   "source": [
    "### Merge Sort\n",
    "by Mayank Khanna\\\n",
    "https://www.geeksforgeeks.org/merge-sort/"
   ]
  },
  {
   "cell_type": "code",
   "execution_count": 3,
   "metadata": {},
   "outputs": [],
   "source": [
    "# Python program for implementation of MergeSort\n",
    "\n",
    "def mergeSort(arr):\n",
    "    if len(arr) > 1:\n",
    " \n",
    "         # Finding the mid of the array\n",
    "        mid = len(arr)//2\n",
    " \n",
    "        # Dividing the array elements\n",
    "        L = arr[:mid]\n",
    " \n",
    "        # Into 2 halves\n",
    "        R = arr[mid:]\n",
    " \n",
    "        # Sorting the first half\n",
    "        mergeSort(L)\n",
    " \n",
    "        # Sorting the second half\n",
    "        mergeSort(R)\n",
    " \n",
    "        i = j = k = 0\n",
    " \n",
    "        # Copy data to temp arrays L[] and R[]\n",
    "        while i < len(L) and j < len(R):\n",
    "            if L[i] <= R[j]:\n",
    "                arr[k] = L[i]\n",
    "                i += 1\n",
    "            else:\n",
    "                arr[k] = R[j]\n",
    "                j += 1\n",
    "            k += 1\n",
    " \n",
    "        # Checking if any element was left\n",
    "        while i < len(L):\n",
    "            arr[k] = L[i]\n",
    "            i += 1\n",
    "            k += 1\n",
    " \n",
    "        while j < len(R):\n",
    "            arr[k] = R[j]\n",
    "            j += 1\n",
    "            k += 1\n",
    " \n",
    "\n",
    "# This code is contributed by Mayank Khanna"
   ]
  },
  {
   "cell_type": "markdown",
   "metadata": {},
   "source": [
    "### Quick Sort\n",
    "by Adnan Aliakbar\\\n",
    "https://www.geeksforgeeks.org/quick-sort/"
   ]
  },
  {
   "cell_type": "code",
   "execution_count": 4,
   "metadata": {},
   "outputs": [],
   "source": [
    "# #https://www.educative.io/answers/how-to-implement-quicksort-in-python\n",
    "\n",
    "# def quickSort(arr):\n",
    "\n",
    "#     elements = len(arr)\n",
    "    \n",
    "#     #Base case\n",
    "#     if elements < 2:\n",
    "#         return arr\n",
    "    \n",
    "#     current_position = 0 #Position of the partitioning element\n",
    "\n",
    "#     for i in range(1, elements): #Partitioning loop\n",
    "#          if arr[i] <= arr[0]:\n",
    "#               current_position += 1\n",
    "#               temp = arr[i]\n",
    "#               arr[i] = arr[current_position]\n",
    "#               arr[current_position] = temp\n",
    "\n",
    "#     temp = arr[0]\n",
    "#     arr[0] = arr[current_position] \n",
    "#     arr[current_position] = temp #Brings pivot to it's appropriate position\n",
    "    \n",
    "#     left = quickSort(arr[0:current_position]) #Sorts the elements to the left of pivot\n",
    "#     right = quickSort(arr[current_position+1:elements]) #sorts the elements to the right of pivot\n",
    "\n",
    "#     arr = left + [arr[current_position]] + right #Merging everything together\n",
    "    \n",
    "#     return arr\n",
    "\n",
    "\n",
    "# https://www.geeksforgeeks.org/quick-sort/\n",
    "# Python3 implementation of quickSort\n",
    " \n",
    "# Wrapper over quickSort\n",
    "def quickSort(arr):\n",
    "    quicksort(arr, 0, len(arr) - 1)\n",
    "\n",
    "  \n",
    "# Function to perform quicksort\n",
    "def quicksort(array, low, high):\n",
    "    if low < high:\n",
    " \n",
    "        # Find pivot element such that\n",
    "        # element smaller than pivot are on the left\n",
    "        # element greater than pivot are on the right\n",
    "        pi = partition(array, low, high)\n",
    " \n",
    "        # Recursive call on the left of pivot\n",
    "        quicksort(array, low, pi - 1)\n",
    " \n",
    "        # Recursive call on the right of pivot\n",
    "        quicksort(array, pi + 1, high)\n",
    "\n",
    "# Function to find the partition position\n",
    "def partition(array, low, high):\n",
    " \n",
    "    # Choose the rightmost element as pivot\n",
    "    pivot = array[high]\n",
    " \n",
    "    # Pointer for greater element\n",
    "    i = low - 1\n",
    " \n",
    "    # Traverse through all elements\n",
    "    # compare each element with pivot\n",
    "    for j in range(low, high):\n",
    "        if array[j] <= pivot:\n",
    " \n",
    "            # If element smaller than pivot is found\n",
    "            # swap it with the greater element pointed by i\n",
    "            i = i + 1\n",
    " \n",
    "            # Swapping element at i with element at j\n",
    "            (array[i], array[j]) = (array[j], array[i])\n",
    " \n",
    "    # Swap the pivot element with\n",
    "    # the greater element specified by i\n",
    "    (array[i + 1], array[high]) = (array[high], array[i + 1])\n",
    " \n",
    "    # Return the position from where partition is done\n",
    "    return i + 1 \n",
    " \n",
    "# This code is contributed by Adnan Aliakbar"
   ]
  },
  {
   "cell_type": "markdown",
   "metadata": {},
   "source": [
    "### Generate Data"
   ]
  },
  {
   "cell_type": "code",
   "execution_count": 5,
   "metadata": {},
   "outputs": [],
   "source": [
    "def generate_data(size, algorithm, case):\n",
    "    rng = np.random.default_rng(12235)\n",
    "    \n",
    "    # Average case\n",
    "    if case == 'average':\n",
    "        return rng.uniform(size=size)  # Random elements for the average case\n",
    "    \n",
    "    # Best case\n",
    "    elif case == 'best':\n",
    "        if algorithm == 'InsertionSort':\n",
    "            return np.arange(size)  # Sorted in ascending order for best case\n",
    "        elif algorithm == 'MergeSort':\n",
    "            return rng.uniform(size=size)  # MergeSort's performance is the same for all cases\n",
    "        elif algorithm == 'QuickSort':\n",
    "            return np.arange(size, 0, -1)  # Sorted in reverse order for best case\n",
    "       \n",
    "    # Worst case    \n",
    "    elif case == 'worst':\n",
    "        if algorithm == 'InsertionSort':\n",
    "            return np.arange(size, 0, -1)  # Sorted in descending for worst case\n",
    "        elif algorithm == 'QuickSort':\n",
    "            return np.arange(size) # Sorted in ascending order for worst case\n",
    "        elif algorithm == 'MergeSort':\n",
    "            return rng.uniform(size=size)  # MergeSort's performance is the same for all cases"
   ]
  },
  {
   "cell_type": "markdown",
   "metadata": {},
   "source": [
    "### Benchmarking"
   ]
  },
  {
   "cell_type": "code",
   "execution_count": 6,
   "metadata": {},
   "outputs": [],
   "source": [
    "def benchmarking(algorithms, sizes, repetitions, case):\n",
    "    results = []\n",
    "\n",
    "    for name in algorithms:\n",
    "        func = algorithms[name]\n",
    "        for size in sizes:\n",
    "            test_data = generate_data(size, name, case)\n",
    "            clock = timeit.Timer(stmt='sort_func(copy(data))',\n",
    "                                 globals={'sort_func': func, \n",
    "                                          'data': test_data, \n",
    "                                          'copy': copy.copy})\n",
    "            nE, n_ar = clock.autorange()\n",
    "            times = clock.repeat(repeat=repetitions, number=nE)\n",
    "            \n",
    "            for time in times:\n",
    "                results.append({\n",
    "                    'Algorithm': name,\n",
    "                    'Size': size,\n",
    "                    'Case': case,\n",
    "                    'Time': time / nE,\n",
    "                    'Executions': nE\n",
    "                })\n",
    "\n",
    "    df = pd.DataFrame(results)\n",
    "    return df"
   ]
  },
  {
   "cell_type": "code",
   "execution_count": 7,
   "metadata": {},
   "outputs": [
    {
     "name": "stdout",
     "output_type": "stream",
     "text": [
      "         Algorithm  Size  Case      Time  Executions\n",
      "0    InsertionSort   100  best  0.000022       10000\n",
      "1    InsertionSort   100  best  0.000024       10000\n",
      "2    InsertionSort   100  best  0.000020       10000\n",
      "3    InsertionSort   100  best  0.000019       10000\n",
      "4    InsertionSort   100  best  0.000020       10000\n",
      "..             ...   ...   ...       ...         ...\n",
      "100      QuickSort  1600  best  0.279341           1\n",
      "101      QuickSort  1600  best  0.304136           1\n",
      "102      QuickSort  1600  best  0.305857           1\n",
      "103      QuickSort  1600  best  0.307146           1\n",
      "104      QuickSort  1600  best  0.286896           1\n",
      "\n",
      "[105 rows x 5 columns]\n",
      "         Algorithm  Size   Case      Time  Executions\n",
      "0    InsertionSort   100  worst  0.000934         500\n",
      "1    InsertionSort   100  worst  0.000913         500\n",
      "2    InsertionSort   100  worst  0.001034         500\n",
      "3    InsertionSort   100  worst  0.001017         500\n",
      "4    InsertionSort   100  worst  0.000993         500\n",
      "..             ...   ...    ...       ...         ...\n",
      "100      QuickSort  1600  worst  0.347906           1\n",
      "101      QuickSort  1600  worst  0.402482           1\n",
      "102      QuickSort  1600  worst  0.362263           1\n",
      "103      QuickSort  1600  worst  0.366135           1\n",
      "104      QuickSort  1600  worst  0.360021           1\n",
      "\n",
      "[105 rows x 5 columns]\n"
     ]
    }
   ],
   "source": [
    "# Example usage\n",
    "algorithms = {\n",
    "    'InsertionSort': insertionSort,\n",
    "    'MergeSort': mergeSort,\n",
    "    'QuickSort': quickSort\n",
    "}\n",
    "\n",
    "sizes = [100 * pow(2, i) for i in range(5)] \n",
    "repetitions = 7\n",
    "\n",
    "\n",
    "cases = ['best', 'worst', 'average']\n",
    "\n",
    "for case in cases:\n",
    "    df = benchmarking(algorithms, sizes, repetitions, case)\n",
    "\n",
    "    print(df)\n",
    "    # Save to pickle\n",
    "    df.to_pickle(f\"benchmark_results_{case}_case.pkl\")\n",
    "\n"
   ]
  },
  {
   "cell_type": "markdown",
   "metadata": {},
   "source": [
    "### Plotting Benchmarking Data"
   ]
  },
  {
   "cell_type": "code",
   "execution_count": null,
   "metadata": {},
   "outputs": [],
   "source": [
    "# Load the DataFrame\n",
    "def mean_sorts(df):\n",
    "    # Group by 'Algorithm', 'Size', and 'Case' and calculate the mean of 'Time'\n",
    "    means = df.groupby(['Algorithm', 'Size', 'Case']).mean()['Time'].round(5)\n",
    "    # Reset index to convert indices into columns\n",
    "    means = means.reset_index()\n",
    "    # Pivot the DataFrame to make 'Size' the index, columns to be the algorithms, and values to be 'Time', separated by 'Case'\n",
    "    means = means.pivot_table(index='Size', columns=['Algorithm', 'Case'], values='Time')\n",
    "    return means\n",
    "\n",
    "def plot_figure(df_means):\n",
    "    plt.rcParams[\"figure.figsize\"] = (16, 8)\n",
    "    # Ensure that the means are sorted by 'Size' (the index)\n",
    "    df_means = df_means.sort_index()\n",
    "    # Plotting the benchamrking data\n",
    "    ax = df_means.plot(kind='line', lw=2, marker='o', markersize=5)\n",
    "    ax.set_ylabel(\"Running Time [ms]\")\n",
    "    ax.set_xlabel(\"Input Size\")\n",
    "    plt.legend(title=\"Algorithm and Case\", bbox_to_anchor=(1.05, 1), loc='upper left')\n",
    "    plt.grid(True)\n",
    "    plt.tight_layout()\n",
    "    plt.show()"
   ]
  },
  {
   "cell_type": "markdown",
   "metadata": {},
   "source": [
    "### Plotting Theoretical Boundaries"
   ]
  },
  {
   "cell_type": "code",
   "execution_count": null,
   "metadata": {},
   "outputs": [],
   "source": [
    "def plot_theoretical_complexities(sizes, case):\n",
    "    plt.figure(figsize=(16, 8))\n",
    "    \n",
    "    if case == 'best':\n",
    "        plt.plot(sizes, sizes, label='n, Insertion Sort', linestyle='--', color='gray')\n",
    "        plt.plot(sizes, sizes * np.log(sizes), label='n log n, Merge and Quick Sort', linestyle='--', color='red')\n",
    "    elif case == 'average':\n",
    "        plt.plot(sizes, sizes * np.log(sizes), label='n log n, Merge and Quick Sort', linestyle='--', color='red')\n",
    "        plt.plot(sizes, np.square(sizes), label='n^2, Insertion Sort', linestyle='--', color='blue')\n",
    "    elif case == 'worst':\n",
    "        plt.plot(sizes, np.square(sizes), label='n^2, Insertion and Quick Sort', linestyle='--', color='blue')\n",
    "        plt.plot(sizes, sizes * np.log(sizes), label='n log n, Merge Sort', linestyle='--', color='red')\n",
    "\n",
    "    plt.xlabel('Input Size')\n",
    "    plt.ylabel('Running Time [ms]')\n",
    "    plt.title(f'Theoretical Complexity, {case} Case')\n",
    "    plt.legend()\n",
    "    plt.grid(True)\n",
    "    plt.tight_layout()\n",
    "    plt.show()"
   ]
  },
  {
   "cell_type": "markdown",
   "metadata": {},
   "source": [
    "### Worst Case, Benchmarking"
   ]
  },
  {
   "cell_type": "code",
   "execution_count": null,
   "metadata": {},
   "outputs": [],
   "source": [
    "df_worst = pd.read_pickle(\"benchmark_results_worst_case.pkl\")\n",
    "df_means_worst = mean_sorts(df_worst)\n",
    "plot_figure(df_means_worst)"
   ]
  },
  {
   "cell_type": "markdown",
   "metadata": {},
   "source": [
    "### Worst Case, Theoretical"
   ]
  },
  {
   "cell_type": "code",
   "execution_count": null,
   "metadata": {},
   "outputs": [],
   "source": [
    "plot_theoretical_complexities(sizes, 'worst')"
   ]
  },
  {
   "cell_type": "markdown",
   "metadata": {},
   "source": [
    "### Average Case, Benchmarking"
   ]
  },
  {
   "cell_type": "code",
   "execution_count": null,
   "metadata": {},
   "outputs": [],
   "source": [
    "df_average = pd.read_pickle(\"benchmark_results_average_case.pkl\")\n",
    "df_means_average = mean_sorts(df_average)\n",
    "plot_figure(df_means_average)\n"
   ]
  },
  {
   "cell_type": "markdown",
   "metadata": {},
   "source": [
    "### Average Case, Theoretical"
   ]
  },
  {
   "cell_type": "code",
   "execution_count": null,
   "metadata": {},
   "outputs": [],
   "source": [
    "plot_theoretical_complexities(sizes, 'average')"
   ]
  },
  {
   "cell_type": "markdown",
   "metadata": {},
   "source": [
    "### Best Case, Benchmarking"
   ]
  },
  {
   "cell_type": "code",
   "execution_count": null,
   "metadata": {},
   "outputs": [],
   "source": [
    "df_best = pd.read_pickle(\"benchmark_results_best_case.pkl\")\n",
    "df_means_best = mean_sorts(df_best)\n",
    "plot_figure(df_means_best)"
   ]
  },
  {
   "cell_type": "markdown",
   "metadata": {},
   "source": [
    "### Best Case, Theoretical"
   ]
  },
  {
   "cell_type": "code",
   "execution_count": null,
   "metadata": {},
   "outputs": [],
   "source": [
    "plot_theoretical_complexities(sizes, 'best')"
   ]
  }
 ],
 "metadata": {
  "kernelspec": {
   "display_name": ".venv",
   "language": "python",
   "name": "python3"
  },
  "language_info": {
   "codemirror_mode": {
    "name": "ipython",
    "version": 3
   },
   "file_extension": ".py",
   "mimetype": "text/x-python",
   "name": "python",
   "nbconvert_exporter": "python",
   "pygments_lexer": "ipython3",
   "version": "3.12.2"
  }
 },
 "nbformat": 4,
 "nbformat_minor": 2
}
